{
 "cells": [
  {
   "cell_type": "markdown",
   "id": "5be48798",
   "metadata": {},
   "source": [
    "# Fruit and Vegatable Prices in the UK"
   ]
  },
  {
   "cell_type": "markdown",
   "id": "8b48ad32",
   "metadata": {},
   "source": [
    "The Dataset will look at information between 2017 and 2022 to derive any information about the price of Fruit and Vegetables in the UK"
   ]
  },
  {
   "cell_type": "code",
   "execution_count": 3,
   "id": "f708ca35",
   "metadata": {},
   "outputs": [],
   "source": [
    "# First Load all the libraries required for this project "
   ]
  },
  {
   "cell_type": "code",
   "execution_count": 4,
   "id": "67b6b1a3",
   "metadata": {},
   "outputs": [],
   "source": [
    "import pandas as pd \n",
    "import matplotlib.pyplot as plt \n",
    "import seaborn as sns \n",
    "import numpy as np "
   ]
  },
  {
   "cell_type": "code",
   "execution_count": 5,
   "id": "745b62b1",
   "metadata": {},
   "outputs": [],
   "source": [
    "# Now we get the data from the file "
   ]
  },
  {
   "cell_type": "code",
   "execution_count": 6,
   "id": "c9fdb984",
   "metadata": {},
   "outputs": [],
   "source": [
    "basket_price = pd.read_csv(\"fruit-veg.csv\")"
   ]
  },
  {
   "cell_type": "code",
   "execution_count": 8,
   "id": "349eee0d",
   "metadata": {},
   "outputs": [],
   "source": [
    "# Explore the data to get more insights "
   ]
  },
  {
   "cell_type": "code",
   "execution_count": 9,
   "id": "050216d2",
   "metadata": {},
   "outputs": [
    {
     "data": {
      "text/html": [
       "<div>\n",
       "<style scoped>\n",
       "    .dataframe tbody tr th:only-of-type {\n",
       "        vertical-align: middle;\n",
       "    }\n",
       "\n",
       "    .dataframe tbody tr th {\n",
       "        vertical-align: top;\n",
       "    }\n",
       "\n",
       "    .dataframe thead th {\n",
       "        text-align: right;\n",
       "    }\n",
       "</style>\n",
       "<table border=\"1\" class=\"dataframe\">\n",
       "  <thead>\n",
       "    <tr style=\"text-align: right;\">\n",
       "      <th></th>\n",
       "      <th>category</th>\n",
       "      <th>item</th>\n",
       "      <th>variety</th>\n",
       "      <th>date</th>\n",
       "      <th>price</th>\n",
       "      <th>unit</th>\n",
       "    </tr>\n",
       "  </thead>\n",
       "  <tbody>\n",
       "    <tr>\n",
       "      <th>0</th>\n",
       "      <td>fruit</td>\n",
       "      <td>apples</td>\n",
       "      <td>bramleys_seedling</td>\n",
       "      <td>2022-03-11</td>\n",
       "      <td>2.05</td>\n",
       "      <td>kg</td>\n",
       "    </tr>\n",
       "    <tr>\n",
       "      <th>1</th>\n",
       "      <td>fruit</td>\n",
       "      <td>apples</td>\n",
       "      <td>coxs_orange_group</td>\n",
       "      <td>2022-03-11</td>\n",
       "      <td>1.22</td>\n",
       "      <td>kg</td>\n",
       "    </tr>\n",
       "    <tr>\n",
       "      <th>2</th>\n",
       "      <td>fruit</td>\n",
       "      <td>apples</td>\n",
       "      <td>egremont_russet</td>\n",
       "      <td>2022-03-11</td>\n",
       "      <td>1.14</td>\n",
       "      <td>kg</td>\n",
       "    </tr>\n",
       "    <tr>\n",
       "      <th>3</th>\n",
       "      <td>fruit</td>\n",
       "      <td>apples</td>\n",
       "      <td>braeburn</td>\n",
       "      <td>2022-03-11</td>\n",
       "      <td>1.05</td>\n",
       "      <td>kg</td>\n",
       "    </tr>\n",
       "    <tr>\n",
       "      <th>4</th>\n",
       "      <td>fruit</td>\n",
       "      <td>apples</td>\n",
       "      <td>gala</td>\n",
       "      <td>2022-03-11</td>\n",
       "      <td>1.03</td>\n",
       "      <td>kg</td>\n",
       "    </tr>\n",
       "  </tbody>\n",
       "</table>\n",
       "</div>"
      ],
      "text/plain": [
       "  category    item            variety        date  price unit\n",
       "0    fruit  apples  bramleys_seedling  2022-03-11   2.05   kg\n",
       "1    fruit  apples  coxs_orange_group  2022-03-11   1.22   kg\n",
       "2    fruit  apples    egremont_russet  2022-03-11   1.14   kg\n",
       "3    fruit  apples           braeburn  2022-03-11   1.05   kg\n",
       "4    fruit  apples               gala  2022-03-11   1.03   kg"
      ]
     },
     "execution_count": 9,
     "metadata": {},
     "output_type": "execute_result"
    }
   ],
   "source": [
    "basket_price.head(5)"
   ]
  },
  {
   "cell_type": "code",
   "execution_count": 10,
   "id": "4801662b",
   "metadata": {},
   "outputs": [
    {
     "data": {
      "text/html": [
       "<div>\n",
       "<style scoped>\n",
       "    .dataframe tbody tr th:only-of-type {\n",
       "        vertical-align: middle;\n",
       "    }\n",
       "\n",
       "    .dataframe tbody tr th {\n",
       "        vertical-align: top;\n",
       "    }\n",
       "\n",
       "    .dataframe thead th {\n",
       "        text-align: right;\n",
       "    }\n",
       "</style>\n",
       "<table border=\"1\" class=\"dataframe\">\n",
       "  <thead>\n",
       "    <tr style=\"text-align: right;\">\n",
       "      <th></th>\n",
       "      <th>category</th>\n",
       "      <th>item</th>\n",
       "      <th>variety</th>\n",
       "      <th>date</th>\n",
       "      <th>price</th>\n",
       "      <th>unit</th>\n",
       "    </tr>\n",
       "  </thead>\n",
       "  <tbody>\n",
       "    <tr>\n",
       "      <th>9642</th>\n",
       "      <td>cut_flowers</td>\n",
       "      <td>alstromeria</td>\n",
       "      <td>indoor</td>\n",
       "      <td>2017-11-03</td>\n",
       "      <td>0.27</td>\n",
       "      <td>stem</td>\n",
       "    </tr>\n",
       "    <tr>\n",
       "      <th>9643</th>\n",
       "      <td>cut_flowers</td>\n",
       "      <td>chrysanthemum</td>\n",
       "      <td>indoor_spray</td>\n",
       "      <td>2017-11-03</td>\n",
       "      <td>0.22</td>\n",
       "      <td>stem</td>\n",
       "    </tr>\n",
       "    <tr>\n",
       "      <th>9644</th>\n",
       "      <td>cut_flowers</td>\n",
       "      <td>lillies</td>\n",
       "      <td>oriental</td>\n",
       "      <td>2017-11-03</td>\n",
       "      <td>0.70</td>\n",
       "      <td>stem</td>\n",
       "    </tr>\n",
       "    <tr>\n",
       "      <th>9645</th>\n",
       "      <td>cut_flowers</td>\n",
       "      <td>narcissus</td>\n",
       "      <td>indoor</td>\n",
       "      <td>2017-11-03</td>\n",
       "      <td>0.06</td>\n",
       "      <td>stem</td>\n",
       "    </tr>\n",
       "    <tr>\n",
       "      <th>9646</th>\n",
       "      <td>pot_plants</td>\n",
       "      <td>cyclamen</td>\n",
       "      <td>13_cm</td>\n",
       "      <td>2017-11-03</td>\n",
       "      <td>0.75</td>\n",
       "      <td>unit</td>\n",
       "    </tr>\n",
       "  </tbody>\n",
       "</table>\n",
       "</div>"
      ],
      "text/plain": [
       "         category           item       variety        date  price  unit\n",
       "9642  cut_flowers    alstromeria        indoor  2017-11-03   0.27  stem\n",
       "9643  cut_flowers  chrysanthemum  indoor_spray  2017-11-03   0.22  stem\n",
       "9644  cut_flowers        lillies      oriental  2017-11-03   0.70  stem\n",
       "9645  cut_flowers      narcissus        indoor  2017-11-03   0.06  stem\n",
       "9646   pot_plants       cyclamen         13_cm  2017-11-03   0.75  unit"
      ]
     },
     "execution_count": 10,
     "metadata": {},
     "output_type": "execute_result"
    }
   ],
   "source": [
    "basket_price.tail(5)"
   ]
  },
  {
   "cell_type": "code",
   "execution_count": 11,
   "id": "fb37fc29",
   "metadata": {},
   "outputs": [],
   "source": [
    "# Find out how many rows and columns we have"
   ]
  },
  {
   "cell_type": "code",
   "execution_count": 12,
   "id": "31a59617",
   "metadata": {},
   "outputs": [
    {
     "name": "stdout",
     "output_type": "stream",
     "text": [
      "<class 'pandas.core.frame.DataFrame'>\n",
      "RangeIndex: 9647 entries, 0 to 9646\n",
      "Data columns (total 6 columns):\n",
      " #   Column    Non-Null Count  Dtype  \n",
      "---  ------    --------------  -----  \n",
      " 0   category  9647 non-null   object \n",
      " 1   item      9647 non-null   object \n",
      " 2   variety   9647 non-null   object \n",
      " 3   date      9647 non-null   object \n",
      " 4   price     9647 non-null   float64\n",
      " 5   unit      9647 non-null   object \n",
      "dtypes: float64(1), object(5)\n",
      "memory usage: 452.3+ KB\n"
     ]
    }
   ],
   "source": [
    "basket_price.info()"
   ]
  },
  {
   "cell_type": "code",
   "execution_count": 16,
   "id": "c5656204",
   "metadata": {},
   "outputs": [
    {
     "data": {
      "text/plain": [
       "(9647, 6)"
      ]
     },
     "execution_count": 16,
     "metadata": {},
     "output_type": "execute_result"
    }
   ],
   "source": [
    "basket_price.shape"
   ]
  },
  {
   "cell_type": "code",
   "execution_count": 17,
   "id": "024f6f03",
   "metadata": {},
   "outputs": [],
   "source": [
    "# Get more information from the data set using statistical methods"
   ]
  },
  {
   "cell_type": "code",
   "execution_count": 18,
   "id": "f6f0cb27",
   "metadata": {},
   "outputs": [
    {
     "data": {
      "text/html": [
       "<div>\n",
       "<style scoped>\n",
       "    .dataframe tbody tr th:only-of-type {\n",
       "        vertical-align: middle;\n",
       "    }\n",
       "\n",
       "    .dataframe tbody tr th {\n",
       "        vertical-align: top;\n",
       "    }\n",
       "\n",
       "    .dataframe thead th {\n",
       "        text-align: right;\n",
       "    }\n",
       "</style>\n",
       "<table border=\"1\" class=\"dataframe\">\n",
       "  <thead>\n",
       "    <tr style=\"text-align: right;\">\n",
       "      <th></th>\n",
       "      <th>price</th>\n",
       "    </tr>\n",
       "  </thead>\n",
       "  <tbody>\n",
       "    <tr>\n",
       "      <th>count</th>\n",
       "      <td>9647.000000</td>\n",
       "    </tr>\n",
       "    <tr>\n",
       "      <th>mean</th>\n",
       "      <td>1.528333</td>\n",
       "    </tr>\n",
       "    <tr>\n",
       "      <th>std</th>\n",
       "      <td>1.927865</td>\n",
       "    </tr>\n",
       "    <tr>\n",
       "      <th>min</th>\n",
       "      <td>0.020000</td>\n",
       "    </tr>\n",
       "    <tr>\n",
       "      <th>25%</th>\n",
       "      <td>0.540000</td>\n",
       "    </tr>\n",
       "    <tr>\n",
       "      <th>50%</th>\n",
       "      <td>0.880000</td>\n",
       "    </tr>\n",
       "    <tr>\n",
       "      <th>75%</th>\n",
       "      <td>1.500000</td>\n",
       "    </tr>\n",
       "    <tr>\n",
       "      <th>max</th>\n",
       "      <td>17.600000</td>\n",
       "    </tr>\n",
       "  </tbody>\n",
       "</table>\n",
       "</div>"
      ],
      "text/plain": [
       "             price\n",
       "count  9647.000000\n",
       "mean      1.528333\n",
       "std       1.927865\n",
       "min       0.020000\n",
       "25%       0.540000\n",
       "50%       0.880000\n",
       "75%       1.500000\n",
       "max      17.600000"
      ]
     },
     "execution_count": 18,
     "metadata": {},
     "output_type": "execute_result"
    }
   ],
   "source": [
    "basket_price.describe()"
   ]
  },
  {
   "cell_type": "code",
   "execution_count": 30,
   "id": "de666ffa",
   "metadata": {},
   "outputs": [],
   "source": [
    "# get the count of the veg in the set with their corresponding items"
   ]
  },
  {
   "cell_type": "code",
   "execution_count": 31,
   "id": "62607b0a",
   "metadata": {},
   "outputs": [
    {
     "data": {
      "text/plain": [
       "vegetable      7264\n",
       "fruit          1992\n",
       "cut_flowers     342\n",
       "pot_plants       49\n",
       "Name: category, dtype: int64"
      ]
     },
     "execution_count": 31,
     "metadata": {},
     "output_type": "execute_result"
    }
   ],
   "source": [
    "basket_price[\"category\"].value_counts()"
   ]
  },
  {
   "cell_type": "code",
   "execution_count": 23,
   "id": "f18baf1a",
   "metadata": {},
   "outputs": [],
   "source": [
    "# Visualize the data to get a better picture "
   ]
  },
  {
   "cell_type": "code",
   "execution_count": 34,
   "id": "ce621dfb",
   "metadata": {},
   "outputs": [
    {
     "data": {
      "text/plain": [
       "<AxesSubplot:xlabel='category', ylabel='count'>"
      ]
     },
     "execution_count": 34,
     "metadata": {},
     "output_type": "execute_result"
    },
    {
     "data": {
      "image/png": "[encoded data removed]",
      "text/plain": [
       "<Figure size 1200x480 with 1 Axes>"
      ]
     },
     "metadata": {
      "needs_background": "light"
     },
     "output_type": "display_data"
    }
   ],
   "source": [
    "plt.figure(figsize=(10,4), dpi=120)\n",
    "sns.countplot(data=basket_price, x=\"category\")"
   ]
  },
  {
   "cell_type": "code",
   "execution_count": 35,
   "id": "401e6475",
   "metadata": {},
   "outputs": [],
   "source": [
    "# There was more vegetables in the data compared to fruit then we also have plants and flowers"
   ]
  },
  {
   "cell_type": "code",
   "execution_count": 36,
   "id": "df3853b0",
   "metadata": {},
   "outputs": [],
   "source": [
    "# Find the 10 most expensive items in the data set "
   ]
  },
  {
   "cell_type": "code",
   "execution_count": 43,
   "id": "595480ac",
   "metadata": {},
   "outputs": [],
   "source": [
    "# set the id for data \n",
    "basket_price.set_index(\"category\", inplace=True)"
   ]
  },
  {
   "cell_type": "code",
   "execution_count": 44,
   "id": "32940193",
   "metadata": {},
   "outputs": [
    {
     "data": {
      "text/html": [
       "<div>\n",
       "<style scoped>\n",
       "    .dataframe tbody tr th:only-of-type {\n",
       "        vertical-align: middle;\n",
       "    }\n",
       "\n",
       "    .dataframe tbody tr th {\n",
       "        vertical-align: top;\n",
       "    }\n",
       "\n",
       "    .dataframe thead th {\n",
       "        text-align: right;\n",
       "    }\n",
       "</style>\n",
       "<table border=\"1\" class=\"dataframe\">\n",
       "  <thead>\n",
       "    <tr style=\"text-align: right;\">\n",
       "      <th></th>\n",
       "      <th>item</th>\n",
       "      <th>variety</th>\n",
       "      <th>date</th>\n",
       "      <th>price</th>\n",
       "      <th>unit</th>\n",
       "    </tr>\n",
       "    <tr>\n",
       "      <th>category</th>\n",
       "      <th></th>\n",
       "      <th></th>\n",
       "      <th></th>\n",
       "      <th></th>\n",
       "      <th></th>\n",
       "    </tr>\n",
       "  </thead>\n",
       "  <tbody>\n",
       "    <tr>\n",
       "      <th>fruit</th>\n",
       "      <td>raspberries</td>\n",
       "      <td>raspberries</td>\n",
       "      <td>2021-05-21</td>\n",
       "      <td>17.60</td>\n",
       "      <td>kg</td>\n",
       "    </tr>\n",
       "    <tr>\n",
       "      <th>fruit</th>\n",
       "      <td>raspberries</td>\n",
       "      <td>raspberries</td>\n",
       "      <td>2021-05-28</td>\n",
       "      <td>17.00</td>\n",
       "      <td>kg</td>\n",
       "    </tr>\n",
       "    <tr>\n",
       "      <th>vegetable</th>\n",
       "      <td>asparagus</td>\n",
       "      <td>asparagus</td>\n",
       "      <td>2021-03-12</td>\n",
       "      <td>16.96</td>\n",
       "      <td>kg</td>\n",
       "    </tr>\n",
       "    <tr>\n",
       "      <th>vegetable</th>\n",
       "      <td>asparagus</td>\n",
       "      <td>asparagus</td>\n",
       "      <td>2020-03-20</td>\n",
       "      <td>16.00</td>\n",
       "      <td>kg</td>\n",
       "    </tr>\n",
       "    <tr>\n",
       "      <th>fruit</th>\n",
       "      <td>raspberries</td>\n",
       "      <td>raspberries</td>\n",
       "      <td>2018-11-23</td>\n",
       "      <td>16.00</td>\n",
       "      <td>kg</td>\n",
       "    </tr>\n",
       "    <tr>\n",
       "      <th>fruit</th>\n",
       "      <td>raspberries</td>\n",
       "      <td>raspberries</td>\n",
       "      <td>2018-11-16</td>\n",
       "      <td>16.00</td>\n",
       "      <td>kg</td>\n",
       "    </tr>\n",
       "    <tr>\n",
       "      <th>vegetable</th>\n",
       "      <td>asparagus</td>\n",
       "      <td>asparagus</td>\n",
       "      <td>2018-04-06</td>\n",
       "      <td>16.00</td>\n",
       "      <td>kg</td>\n",
       "    </tr>\n",
       "    <tr>\n",
       "      <th>vegetable</th>\n",
       "      <td>asparagus</td>\n",
       "      <td>asparagus</td>\n",
       "      <td>2021-03-26</td>\n",
       "      <td>15.29</td>\n",
       "      <td>kg</td>\n",
       "    </tr>\n",
       "    <tr>\n",
       "      <th>vegetable</th>\n",
       "      <td>asparagus</td>\n",
       "      <td>asparagus</td>\n",
       "      <td>2020-03-27</td>\n",
       "      <td>15.18</td>\n",
       "      <td>kg</td>\n",
       "    </tr>\n",
       "    <tr>\n",
       "      <th>vegetable</th>\n",
       "      <td>asparagus</td>\n",
       "      <td>asparagus</td>\n",
       "      <td>2021-03-19</td>\n",
       "      <td>15.05</td>\n",
       "      <td>kg</td>\n",
       "    </tr>\n",
       "  </tbody>\n",
       "</table>\n",
       "</div>"
      ],
      "text/plain": [
       "                  item      variety        date  price unit\n",
       "category                                                   \n",
       "fruit      raspberries  raspberries  2021-05-21  17.60   kg\n",
       "fruit      raspberries  raspberries  2021-05-28  17.00   kg\n",
       "vegetable    asparagus    asparagus  2021-03-12  16.96   kg\n",
       "vegetable    asparagus    asparagus  2020-03-20  16.00   kg\n",
       "fruit      raspberries  raspberries  2018-11-23  16.00   kg\n",
       "fruit      raspberries  raspberries  2018-11-16  16.00   kg\n",
       "vegetable    asparagus    asparagus  2018-04-06  16.00   kg\n",
       "vegetable    asparagus    asparagus  2021-03-26  15.29   kg\n",
       "vegetable    asparagus    asparagus  2020-03-27  15.18   kg\n",
       "vegetable    asparagus    asparagus  2021-03-19  15.05   kg"
      ]
     },
     "execution_count": 44,
     "metadata": {},
     "output_type": "execute_result"
    }
   ],
   "source": [
    "basket_price.nlargest(10, \"price\")"
   ]
  },
  {
   "cell_type": "code",
   "execution_count": 38,
   "id": "7dfd39a5",
   "metadata": {},
   "outputs": [],
   "source": [
    "# Find the 10 Cheapest Fruit and Veg in the data set "
   ]
  },
  {
   "cell_type": "code",
   "execution_count": 39,
   "id": "15ec01ae",
   "metadata": {},
   "outputs": [
    {
     "data": {
      "text/html": [
       "<div>\n",
       "<style scoped>\n",
       "    .dataframe tbody tr th:only-of-type {\n",
       "        vertical-align: middle;\n",
       "    }\n",
       "\n",
       "    .dataframe tbody tr th {\n",
       "        vertical-align: top;\n",
       "    }\n",
       "\n",
       "    .dataframe thead th {\n",
       "        text-align: right;\n",
       "    }\n",
       "</style>\n",
       "<table border=\"1\" class=\"dataframe\">\n",
       "  <thead>\n",
       "    <tr style=\"text-align: right;\">\n",
       "      <th></th>\n",
       "      <th>category</th>\n",
       "      <th>item</th>\n",
       "      <th>variety</th>\n",
       "      <th>date</th>\n",
       "      <th>price</th>\n",
       "      <th>unit</th>\n",
       "    </tr>\n",
       "  </thead>\n",
       "  <tbody>\n",
       "    <tr>\n",
       "      <th>8743</th>\n",
       "      <td>cut_flowers</td>\n",
       "      <td>narcissus</td>\n",
       "      <td>outdoor</td>\n",
       "      <td>2018-04-27</td>\n",
       "      <td>0.02</td>\n",
       "      <td>stem</td>\n",
       "    </tr>\n",
       "    <tr>\n",
       "      <th>8780</th>\n",
       "      <td>cut_flowers</td>\n",
       "      <td>narcissus</td>\n",
       "      <td>outdoor</td>\n",
       "      <td>2018-04-20</td>\n",
       "      <td>0.02</td>\n",
       "      <td>stem</td>\n",
       "    </tr>\n",
       "    <tr>\n",
       "      <th>8816</th>\n",
       "      <td>cut_flowers</td>\n",
       "      <td>narcissus</td>\n",
       "      <td>outdoor</td>\n",
       "      <td>2018-04-13</td>\n",
       "      <td>0.02</td>\n",
       "      <td>stem</td>\n",
       "    </tr>\n",
       "    <tr>\n",
       "      <th>8851</th>\n",
       "      <td>cut_flowers</td>\n",
       "      <td>narcissus</td>\n",
       "      <td>outdoor</td>\n",
       "      <td>2018-04-06</td>\n",
       "      <td>0.03</td>\n",
       "      <td>stem</td>\n",
       "    </tr>\n",
       "    <tr>\n",
       "      <th>8886</th>\n",
       "      <td>cut_flowers</td>\n",
       "      <td>narcissus</td>\n",
       "      <td>outdoor</td>\n",
       "      <td>2018-03-30</td>\n",
       "      <td>0.03</td>\n",
       "      <td>stem</td>\n",
       "    </tr>\n",
       "    <tr>\n",
       "      <th>8919</th>\n",
       "      <td>cut_flowers</td>\n",
       "      <td>narcissus</td>\n",
       "      <td>outdoor</td>\n",
       "      <td>2018-03-23</td>\n",
       "      <td>0.03</td>\n",
       "      <td>stem</td>\n",
       "    </tr>\n",
       "    <tr>\n",
       "      <th>9021</th>\n",
       "      <td>cut_flowers</td>\n",
       "      <td>narcissus</td>\n",
       "      <td>outdoor</td>\n",
       "      <td>2018-03-02</td>\n",
       "      <td>0.03</td>\n",
       "      <td>stem</td>\n",
       "    </tr>\n",
       "    <tr>\n",
       "      <th>9162</th>\n",
       "      <td>cut_flowers</td>\n",
       "      <td>narcissus</td>\n",
       "      <td>outdoor</td>\n",
       "      <td>2018-02-02</td>\n",
       "      <td>0.03</td>\n",
       "      <td>stem</td>\n",
       "    </tr>\n",
       "    <tr>\n",
       "      <th>9197</th>\n",
       "      <td>cut_flowers</td>\n",
       "      <td>narcissus</td>\n",
       "      <td>outdoor</td>\n",
       "      <td>2018-01-26</td>\n",
       "      <td>0.03</td>\n",
       "      <td>stem</td>\n",
       "    </tr>\n",
       "    <tr>\n",
       "      <th>8850</th>\n",
       "      <td>cut_flowers</td>\n",
       "      <td>narcissus</td>\n",
       "      <td>indoor</td>\n",
       "      <td>2018-04-06</td>\n",
       "      <td>0.04</td>\n",
       "      <td>stem</td>\n",
       "    </tr>\n",
       "  </tbody>\n",
       "</table>\n",
       "</div>"
      ],
      "text/plain": [
       "         category       item  variety        date  price  unit\n",
       "8743  cut_flowers  narcissus  outdoor  2018-04-27   0.02  stem\n",
       "8780  cut_flowers  narcissus  outdoor  2018-04-20   0.02  stem\n",
       "8816  cut_flowers  narcissus  outdoor  2018-04-13   0.02  stem\n",
       "8851  cut_flowers  narcissus  outdoor  2018-04-06   0.03  stem\n",
       "8886  cut_flowers  narcissus  outdoor  2018-03-30   0.03  stem\n",
       "8919  cut_flowers  narcissus  outdoor  2018-03-23   0.03  stem\n",
       "9021  cut_flowers  narcissus  outdoor  2018-03-02   0.03  stem\n",
       "9162  cut_flowers  narcissus  outdoor  2018-02-02   0.03  stem\n",
       "9197  cut_flowers  narcissus  outdoor  2018-01-26   0.03  stem\n",
       "8850  cut_flowers  narcissus   indoor  2018-04-06   0.04  stem"
      ]
     },
     "execution_count": 39,
     "metadata": {},
     "output_type": "execute_result"
    }
   ],
   "source": [
    "basket_price.nsmallest(10, \"price\")"
   ]
  },
  {
   "cell_type": "code",
   "execution_count": 45,
   "id": "ae651e75",
   "metadata": {},
   "outputs": [
    {
     "data": {
      "text/html": [
       "<div>\n",
       "<style scoped>\n",
       "    .dataframe tbody tr th:only-of-type {\n",
       "        vertical-align: middle;\n",
       "    }\n",
       "\n",
       "    .dataframe tbody tr th {\n",
       "        vertical-align: top;\n",
       "    }\n",
       "\n",
       "    .dataframe thead th {\n",
       "        text-align: right;\n",
       "    }\n",
       "</style>\n",
       "<table border=\"1\" class=\"dataframe\">\n",
       "  <thead>\n",
       "    <tr style=\"text-align: right;\">\n",
       "      <th></th>\n",
       "      <th>item</th>\n",
       "      <th>variety</th>\n",
       "      <th>date</th>\n",
       "      <th>price</th>\n",
       "      <th>unit</th>\n",
       "    </tr>\n",
       "    <tr>\n",
       "      <th>category</th>\n",
       "      <th></th>\n",
       "      <th></th>\n",
       "      <th></th>\n",
       "      <th></th>\n",
       "      <th></th>\n",
       "    </tr>\n",
       "  </thead>\n",
       "  <tbody>\n",
       "    <tr>\n",
       "      <th>fruit</th>\n",
       "      <td>apples</td>\n",
       "      <td>bramleys_seedling</td>\n",
       "      <td>2022-03-11</td>\n",
       "      <td>2.05</td>\n",
       "      <td>kg</td>\n",
       "    </tr>\n",
       "    <tr>\n",
       "      <th>fruit</th>\n",
       "      <td>apples</td>\n",
       "      <td>coxs_orange_group</td>\n",
       "      <td>2022-03-11</td>\n",
       "      <td>1.22</td>\n",
       "      <td>kg</td>\n",
       "    </tr>\n",
       "    <tr>\n",
       "      <th>fruit</th>\n",
       "      <td>apples</td>\n",
       "      <td>egremont_russet</td>\n",
       "      <td>2022-03-11</td>\n",
       "      <td>1.14</td>\n",
       "      <td>kg</td>\n",
       "    </tr>\n",
       "    <tr>\n",
       "      <th>fruit</th>\n",
       "      <td>apples</td>\n",
       "      <td>braeburn</td>\n",
       "      <td>2022-03-11</td>\n",
       "      <td>1.05</td>\n",
       "      <td>kg</td>\n",
       "    </tr>\n",
       "    <tr>\n",
       "      <th>fruit</th>\n",
       "      <td>apples</td>\n",
       "      <td>gala</td>\n",
       "      <td>2022-03-11</td>\n",
       "      <td>1.03</td>\n",
       "      <td>kg</td>\n",
       "    </tr>\n",
       "  </tbody>\n",
       "</table>\n",
       "</div>"
      ],
      "text/plain": [
       "            item            variety        date  price unit\n",
       "category                                                   \n",
       "fruit     apples  bramleys_seedling  2022-03-11   2.05   kg\n",
       "fruit     apples  coxs_orange_group  2022-03-11   1.22   kg\n",
       "fruit     apples    egremont_russet  2022-03-11   1.14   kg\n",
       "fruit     apples           braeburn  2022-03-11   1.05   kg\n",
       "fruit     apples               gala  2022-03-11   1.03   kg"
      ]
     },
     "execution_count": 45,
     "metadata": {},
     "output_type": "execute_result"
    }
   ],
   "source": [
    "basket_price.head()"
   ]
  },
  {
   "cell_type": "code",
   "execution_count": 46,
   "id": "3f3fee04",
   "metadata": {},
   "outputs": [],
   "source": [
    "# create a scatterplot showing the category and price to visualize the data"
   ]
  },
  {
   "cell_type": "code",
   "execution_count": 53,
   "id": "6a4720e9",
   "metadata": {},
   "outputs": [
    {
     "data": {
      "text/plain": [
       "<AxesSubplot:xlabel='price', ylabel='category'>"
      ]
     },
     "execution_count": 53,
     "metadata": {},
     "output_type": "execute_result"
    },
    {
     "data": {
      "image/png": "[encoded data removed]",
      "text/plain": [
       "<Figure size 1500x600 with 1 Axes>"
      ]
     },
     "metadata": {
      "needs_background": "light"
     },
     "output_type": "display_data"
    }
   ],
   "source": [
    "plt.figure(figsize=(10,4), dpi=150)\n",
    "sns.scatterplot(data=basket_price, x=\"price\", y=\"category\")"
   ]
  },
  {
   "cell_type": "code",
   "execution_count": 54,
   "id": "e3ebbf7a",
   "metadata": {},
   "outputs": [],
   "source": [
    "# Plot the most expensive and cheapest fruit and veg "
   ]
  },
  {
   "cell_type": "code",
   "execution_count": 57,
   "id": "c96df554",
   "metadata": {},
   "outputs": [
    {
     "data": {
      "text/plain": [
       "<AxesSubplot:xlabel='price', ylabel='count'>"
      ]
     },
     "execution_count": 57,
     "metadata": {},
     "output_type": "execute_result"
    },
    {
     "data": {
      "image/png": "[encoded data removed]",
      "text/plain": [
       "<Figure size 1000x400 with 1 Axes>"
      ]
     },
     "metadata": {
      "needs_background": "light"
     },
     "output_type": "display_data"
    }
   ],
   "source": [
    "most_expensive = basket_price.nlargest(10, \"price\")\n",
    "plt.figure(figsize=(10,4), dpi=100)\n",
    "sns.countplot(data=most_expensive, x=\"price\")\n",
    "# Average price for the most 10 expensive item was £16.00 "
   ]
  },
  {
   "cell_type": "code",
   "execution_count": 59,
   "id": "021397dc",
   "metadata": {},
   "outputs": [
    {
     "data": {
      "text/plain": [
       "<AxesSubplot:xlabel='price', ylabel='count'>"
      ]
     },
     "execution_count": 59,
     "metadata": {},
     "output_type": "execute_result"
    },
    {
     "data": {
      "image/png": "[encoded data removed]",
      "text/plain": [
       "<Figure size 1000x400 with 1 Axes>"
      ]
     },
     "metadata": {
      "needs_background": "light"
     },
     "output_type": "display_data"
    }
   ],
   "source": [
    "cheapest = basket_price.nsmallest(10, \"price\")\n",
    "plt.figure(figsize=(10,4), dpi=100)\n",
    "\n",
    "# The average price in this case for the cheapest item was 3p "
   ]
  },
  {
   "cell_type": "code",
   "execution_count": 62,
   "id": "9401206b",
   "metadata": {},
   "outputs": [
    {
     "data": {
      "text/html": [
       "<div>\n",
       "<style scoped>\n",
       "    .dataframe tbody tr th:only-of-type {\n",
       "        vertical-align: middle;\n",
       "    }\n",
       "\n",
       "    .dataframe tbody tr th {\n",
       "        vertical-align: top;\n",
       "    }\n",
       "\n",
       "    .dataframe thead th {\n",
       "        text-align: right;\n",
       "    }\n",
       "</style>\n",
       "<table border=\"1\" class=\"dataframe\">\n",
       "  <thead>\n",
       "    <tr style=\"text-align: right;\">\n",
       "      <th></th>\n",
       "      <th>item</th>\n",
       "      <th>variety</th>\n",
       "      <th>date</th>\n",
       "      <th>price</th>\n",
       "      <th>unit</th>\n",
       "    </tr>\n",
       "    <tr>\n",
       "      <th>category</th>\n",
       "      <th></th>\n",
       "      <th></th>\n",
       "      <th></th>\n",
       "      <th></th>\n",
       "      <th></th>\n",
       "    </tr>\n",
       "  </thead>\n",
       "  <tbody>\n",
       "    <tr>\n",
       "      <th>fruit</th>\n",
       "      <td>apples</td>\n",
       "      <td>bramleys_seedling</td>\n",
       "      <td>2022-03-11</td>\n",
       "      <td>2.05</td>\n",
       "      <td>kg</td>\n",
       "    </tr>\n",
       "    <tr>\n",
       "      <th>fruit</th>\n",
       "      <td>apples</td>\n",
       "      <td>coxs_orange_group</td>\n",
       "      <td>2022-03-11</td>\n",
       "      <td>1.22</td>\n",
       "      <td>kg</td>\n",
       "    </tr>\n",
       "    <tr>\n",
       "      <th>fruit</th>\n",
       "      <td>apples</td>\n",
       "      <td>egremont_russet</td>\n",
       "      <td>2022-03-11</td>\n",
       "      <td>1.14</td>\n",
       "      <td>kg</td>\n",
       "    </tr>\n",
       "    <tr>\n",
       "      <th>fruit</th>\n",
       "      <td>apples</td>\n",
       "      <td>braeburn</td>\n",
       "      <td>2022-03-11</td>\n",
       "      <td>1.05</td>\n",
       "      <td>kg</td>\n",
       "    </tr>\n",
       "    <tr>\n",
       "      <th>fruit</th>\n",
       "      <td>apples</td>\n",
       "      <td>gala</td>\n",
       "      <td>2022-03-11</td>\n",
       "      <td>1.03</td>\n",
       "      <td>kg</td>\n",
       "    </tr>\n",
       "  </tbody>\n",
       "</table>\n",
       "</div>"
      ],
      "text/plain": [
       "            item            variety        date  price unit\n",
       "category                                                   \n",
       "fruit     apples  bramleys_seedling  2022-03-11   2.05   kg\n",
       "fruit     apples  coxs_orange_group  2022-03-11   1.22   kg\n",
       "fruit     apples    egremont_russet  2022-03-11   1.14   kg\n",
       "fruit     apples           braeburn  2022-03-11   1.05   kg\n",
       "fruit     apples               gala  2022-03-11   1.03   kg"
      ]
     },
     "execution_count": 62,
     "metadata": {},
     "output_type": "execute_result"
    }
   ],
   "source": [
    "basket_price.head(5)"
   ]
  },
  {
   "cell_type": "code",
   "execution_count": 73,
   "id": "1e1a1a15",
   "metadata": {},
   "outputs": [],
   "source": [
    "# Deep dive into the data => trying to see the most expensive apples with variety"
   ]
  },
  {
   "cell_type": "code",
   "execution_count": 66,
   "id": "ea7fadb4",
   "metadata": {},
   "outputs": [
    {
     "data": {
      "text/plain": [
       "Index(['item', 'variety', 'date', 'price', 'unit'], dtype='object')"
      ]
     },
     "execution_count": 66,
     "metadata": {},
     "output_type": "execute_result"
    }
   ],
   "source": [
    "basket_price.columns"
   ]
  },
  {
   "cell_type": "code",
   "execution_count": 71,
   "id": "2345fa4f",
   "metadata": {},
   "outputs": [],
   "source": [
    "apples = basket_price[basket_price[\"item\"] == \"apples\"]"
   ]
  },
  {
   "cell_type": "code",
   "execution_count": 72,
   "id": "e562e485",
   "metadata": {},
   "outputs": [
    {
     "data": {
      "text/html": [
       "<div>\n",
       "<style scoped>\n",
       "    .dataframe tbody tr th:only-of-type {\n",
       "        vertical-align: middle;\n",
       "    }\n",
       "\n",
       "    .dataframe tbody tr th {\n",
       "        vertical-align: top;\n",
       "    }\n",
       "\n",
       "    .dataframe thead th {\n",
       "        text-align: right;\n",
       "    }\n",
       "</style>\n",
       "<table border=\"1\" class=\"dataframe\">\n",
       "  <thead>\n",
       "    <tr style=\"text-align: right;\">\n",
       "      <th></th>\n",
       "      <th>item</th>\n",
       "      <th>variety</th>\n",
       "      <th>date</th>\n",
       "      <th>price</th>\n",
       "      <th>unit</th>\n",
       "    </tr>\n",
       "    <tr>\n",
       "      <th>category</th>\n",
       "      <th></th>\n",
       "      <th></th>\n",
       "      <th></th>\n",
       "      <th></th>\n",
       "      <th></th>\n",
       "    </tr>\n",
       "  </thead>\n",
       "  <tbody>\n",
       "    <tr>\n",
       "      <th>fruit</th>\n",
       "      <td>apples</td>\n",
       "      <td>bramleys_seedling</td>\n",
       "      <td>2022-03-11</td>\n",
       "      <td>2.05</td>\n",
       "      <td>kg</td>\n",
       "    </tr>\n",
       "    <tr>\n",
       "      <th>fruit</th>\n",
       "      <td>apples</td>\n",
       "      <td>coxs_orange_group</td>\n",
       "      <td>2022-03-11</td>\n",
       "      <td>1.22</td>\n",
       "      <td>kg</td>\n",
       "    </tr>\n",
       "    <tr>\n",
       "      <th>fruit</th>\n",
       "      <td>apples</td>\n",
       "      <td>egremont_russet</td>\n",
       "      <td>2022-03-11</td>\n",
       "      <td>1.14</td>\n",
       "      <td>kg</td>\n",
       "    </tr>\n",
       "    <tr>\n",
       "      <th>fruit</th>\n",
       "      <td>apples</td>\n",
       "      <td>braeburn</td>\n",
       "      <td>2022-03-11</td>\n",
       "      <td>1.05</td>\n",
       "      <td>kg</td>\n",
       "    </tr>\n",
       "    <tr>\n",
       "      <th>fruit</th>\n",
       "      <td>apples</td>\n",
       "      <td>gala</td>\n",
       "      <td>2022-03-11</td>\n",
       "      <td>1.03</td>\n",
       "      <td>kg</td>\n",
       "    </tr>\n",
       "    <tr>\n",
       "      <th>...</th>\n",
       "      <td>...</td>\n",
       "      <td>...</td>\n",
       "      <td>...</td>\n",
       "      <td>...</td>\n",
       "      <td>...</td>\n",
       "    </tr>\n",
       "    <tr>\n",
       "      <th>fruit</th>\n",
       "      <td>apples</td>\n",
       "      <td>egremont_russet</td>\n",
       "      <td>2017-11-03</td>\n",
       "      <td>0.82</td>\n",
       "      <td>kg</td>\n",
       "    </tr>\n",
       "    <tr>\n",
       "      <th>fruit</th>\n",
       "      <td>apples</td>\n",
       "      <td>braeburn</td>\n",
       "      <td>2017-11-03</td>\n",
       "      <td>0.64</td>\n",
       "      <td>kg</td>\n",
       "    </tr>\n",
       "    <tr>\n",
       "      <th>fruit</th>\n",
       "      <td>apples</td>\n",
       "      <td>gala</td>\n",
       "      <td>2017-11-03</td>\n",
       "      <td>0.79</td>\n",
       "      <td>kg</td>\n",
       "    </tr>\n",
       "    <tr>\n",
       "      <th>fruit</th>\n",
       "      <td>apples</td>\n",
       "      <td>other_mid_season</td>\n",
       "      <td>2017-11-03</td>\n",
       "      <td>0.76</td>\n",
       "      <td>kg</td>\n",
       "    </tr>\n",
       "    <tr>\n",
       "      <th>fruit</th>\n",
       "      <td>apples</td>\n",
       "      <td>other_late_season</td>\n",
       "      <td>2017-11-03</td>\n",
       "      <td>0.75</td>\n",
       "      <td>kg</td>\n",
       "    </tr>\n",
       "  </tbody>\n",
       "</table>\n",
       "<p>1077 rows × 5 columns</p>\n",
       "</div>"
      ],
      "text/plain": [
       "            item            variety        date  price unit\n",
       "category                                                   \n",
       "fruit     apples  bramleys_seedling  2022-03-11   2.05   kg\n",
       "fruit     apples  coxs_orange_group  2022-03-11   1.22   kg\n",
       "fruit     apples    egremont_russet  2022-03-11   1.14   kg\n",
       "fruit     apples           braeburn  2022-03-11   1.05   kg\n",
       "fruit     apples               gala  2022-03-11   1.03   kg\n",
       "...          ...                ...         ...    ...  ...\n",
       "fruit     apples    egremont_russet  2017-11-03   0.82   kg\n",
       "fruit     apples           braeburn  2017-11-03   0.64   kg\n",
       "fruit     apples               gala  2017-11-03   0.79   kg\n",
       "fruit     apples   other_mid_season  2017-11-03   0.76   kg\n",
       "fruit     apples  other_late_season  2017-11-03   0.75   kg\n",
       "\n",
       "[1077 rows x 5 columns]"
      ]
     },
     "execution_count": 72,
     "metadata": {},
     "output_type": "execute_result"
    }
   ],
   "source": [
    "apples"
   ]
  },
  {
   "cell_type": "code",
   "execution_count": 85,
   "id": "b17f76f9",
   "metadata": {},
   "outputs": [],
   "source": [
    "# Find the most 10 expensive apples"
   ]
  },
  {
   "cell_type": "code",
   "execution_count": 93,
   "id": "9edbf3fa",
   "metadata": {},
   "outputs": [
    {
     "data": {
      "text/plain": [
       "<AxesSubplot:xlabel='price', ylabel='count'>"
      ]
     },
     "execution_count": 93,
     "metadata": {},
     "output_type": "execute_result"
    },
    {
     "data": {
      "image/png": "[encoded data removed]",
      "text/plain": [
       "<Figure size 1000x400 with 1 Axes>"
      ]
     },
     "metadata": {
      "needs_background": "light"
     },
     "output_type": "display_data"
    }
   ],
   "source": [
    "expensive_apples = apples.nlargest(20, \"price\")\n",
    "plt.figure(figsize=(10,4), dpi=100)\n",
    "sns.countplot(data=expensive_apples, x=\"price\")"
   ]
  },
  {
   "cell_type": "code",
   "execution_count": 98,
   "id": "29d7ea44",
   "metadata": {},
   "outputs": [],
   "source": [
    "sorted_apples = apples.sort_values(by=[\"price\"], ascending=False)\n"
   ]
  },
  {
   "cell_type": "code",
   "execution_count": 99,
   "id": "5abffb3d",
   "metadata": {},
   "outputs": [],
   "source": [
    "# display the table of apples starting with the most expensive "
   ]
  },
  {
   "cell_type": "code",
   "execution_count": 100,
   "id": "3168609b",
   "metadata": {},
   "outputs": [
    {
     "data": {
      "text/html": [
       "<div>\n",
       "<style scoped>\n",
       "    .dataframe tbody tr th:only-of-type {\n",
       "        vertical-align: middle;\n",
       "    }\n",
       "\n",
       "    .dataframe tbody tr th {\n",
       "        vertical-align: top;\n",
       "    }\n",
       "\n",
       "    .dataframe thead th {\n",
       "        text-align: right;\n",
       "    }\n",
       "</style>\n",
       "<table border=\"1\" class=\"dataframe\">\n",
       "  <thead>\n",
       "    <tr style=\"text-align: right;\">\n",
       "      <th></th>\n",
       "      <th>item</th>\n",
       "      <th>variety</th>\n",
       "      <th>date</th>\n",
       "      <th>price</th>\n",
       "      <th>unit</th>\n",
       "    </tr>\n",
       "    <tr>\n",
       "      <th>category</th>\n",
       "      <th></th>\n",
       "      <th></th>\n",
       "      <th></th>\n",
       "      <th></th>\n",
       "      <th></th>\n",
       "    </tr>\n",
       "  </thead>\n",
       "  <tbody>\n",
       "    <tr>\n",
       "      <th>fruit</th>\n",
       "      <td>apples</td>\n",
       "      <td>bramleys_seedling</td>\n",
       "      <td>2020-07-17</td>\n",
       "      <td>2.75</td>\n",
       "      <td>kg</td>\n",
       "    </tr>\n",
       "    <tr>\n",
       "      <th>fruit</th>\n",
       "      <td>apples</td>\n",
       "      <td>bramleys_seedling</td>\n",
       "      <td>2018-07-20</td>\n",
       "      <td>2.75</td>\n",
       "      <td>kg</td>\n",
       "    </tr>\n",
       "    <tr>\n",
       "      <th>fruit</th>\n",
       "      <td>apples</td>\n",
       "      <td>bramleys_seedling</td>\n",
       "      <td>2020-07-10</td>\n",
       "      <td>2.68</td>\n",
       "      <td>kg</td>\n",
       "    </tr>\n",
       "    <tr>\n",
       "      <th>fruit</th>\n",
       "      <td>apples</td>\n",
       "      <td>bramleys_seedling</td>\n",
       "      <td>2020-07-03</td>\n",
       "      <td>2.59</td>\n",
       "      <td>kg</td>\n",
       "    </tr>\n",
       "    <tr>\n",
       "      <th>fruit</th>\n",
       "      <td>apples</td>\n",
       "      <td>bramleys_seedling</td>\n",
       "      <td>2020-07-24</td>\n",
       "      <td>2.54</td>\n",
       "      <td>kg</td>\n",
       "    </tr>\n",
       "    <tr>\n",
       "      <th>...</th>\n",
       "      <td>...</td>\n",
       "      <td>...</td>\n",
       "      <td>...</td>\n",
       "      <td>...</td>\n",
       "      <td>...</td>\n",
       "    </tr>\n",
       "    <tr>\n",
       "      <th>fruit</th>\n",
       "      <td>apples</td>\n",
       "      <td>braeburn</td>\n",
       "      <td>2021-07-02</td>\n",
       "      <td>0.50</td>\n",
       "      <td>kg</td>\n",
       "    </tr>\n",
       "    <tr>\n",
       "      <th>fruit</th>\n",
       "      <td>apples</td>\n",
       "      <td>other_early_season</td>\n",
       "      <td>2018-10-12</td>\n",
       "      <td>0.44</td>\n",
       "      <td>kg</td>\n",
       "    </tr>\n",
       "    <tr>\n",
       "      <th>fruit</th>\n",
       "      <td>apples</td>\n",
       "      <td>other_mid_season</td>\n",
       "      <td>2018-11-02</td>\n",
       "      <td>0.37</td>\n",
       "      <td>kg</td>\n",
       "    </tr>\n",
       "    <tr>\n",
       "      <th>fruit</th>\n",
       "      <td>apples</td>\n",
       "      <td>other_mid_season</td>\n",
       "      <td>2018-10-26</td>\n",
       "      <td>0.37</td>\n",
       "      <td>kg</td>\n",
       "    </tr>\n",
       "    <tr>\n",
       "      <th>fruit</th>\n",
       "      <td>apples</td>\n",
       "      <td>other_mid_season</td>\n",
       "      <td>2018-11-23</td>\n",
       "      <td>0.32</td>\n",
       "      <td>kg</td>\n",
       "    </tr>\n",
       "  </tbody>\n",
       "</table>\n",
       "<p>1077 rows × 5 columns</p>\n",
       "</div>"
      ],
      "text/plain": [
       "            item             variety        date  price unit\n",
       "category                                                    \n",
       "fruit     apples   bramleys_seedling  2020-07-17   2.75   kg\n",
       "fruit     apples   bramleys_seedling  2018-07-20   2.75   kg\n",
       "fruit     apples   bramleys_seedling  2020-07-10   2.68   kg\n",
       "fruit     apples   bramleys_seedling  2020-07-03   2.59   kg\n",
       "fruit     apples   bramleys_seedling  2020-07-24   2.54   kg\n",
       "...          ...                 ...         ...    ...  ...\n",
       "fruit     apples            braeburn  2021-07-02   0.50   kg\n",
       "fruit     apples  other_early_season  2018-10-12   0.44   kg\n",
       "fruit     apples    other_mid_season  2018-11-02   0.37   kg\n",
       "fruit     apples    other_mid_season  2018-10-26   0.37   kg\n",
       "fruit     apples    other_mid_season  2018-11-23   0.32   kg\n",
       "\n",
       "[1077 rows x 5 columns]"
      ]
     },
     "execution_count": 100,
     "metadata": {},
     "output_type": "execute_result"
    }
   ],
   "source": [
    "sorted_apples"
   ]
  },
  {
   "cell_type": "markdown",
   "id": "e443cf0a",
   "metadata": {},
   "source": [
    "Data Preparation "
   ]
  },
  {
   "cell_type": "code",
   "execution_count": 105,
   "id": "7ecfeb09",
   "metadata": {},
   "outputs": [
    {
     "data": {
      "text/plain": [
       "(9647, 5)"
      ]
     },
     "execution_count": 105,
     "metadata": {},
     "output_type": "execute_result"
    }
   ],
   "source": [
    "basket_price.head()\n",
    "basket_price.shape"
   ]
  },
  {
   "cell_type": "code",
   "execution_count": 109,
   "id": "3b7de868",
   "metadata": {},
   "outputs": [],
   "source": [
    "# cleaning the data \n",
    "from  sklearn.preprocessing import LabelEncoder\n",
    "\n",
    "for col in basket_price.columns:\n",
    "    lable_encoded = LabelEncoder()\n",
    "    basket_price[col] = lable_encoded.fit_transform(basket_price[col])"
   ]
  },
  {
   "cell_type": "code",
   "execution_count": 111,
   "id": "dd31e72b",
   "metadata": {},
   "outputs": [
    {
     "data": {
      "text/html": [
       "<div>\n",
       "<style scoped>\n",
       "    .dataframe tbody tr th:only-of-type {\n",
       "        vertical-align: middle;\n",
       "    }\n",
       "\n",
       "    .dataframe tbody tr th {\n",
       "        vertical-align: top;\n",
       "    }\n",
       "\n",
       "    .dataframe thead th {\n",
       "        text-align: right;\n",
       "    }\n",
       "</style>\n",
       "<table border=\"1\" class=\"dataframe\">\n",
       "  <thead>\n",
       "    <tr style=\"text-align: right;\">\n",
       "      <th></th>\n",
       "      <th>item</th>\n",
       "      <th>variety</th>\n",
       "      <th>date</th>\n",
       "      <th>price</th>\n",
       "      <th>unit</th>\n",
       "    </tr>\n",
       "    <tr>\n",
       "      <th>category</th>\n",
       "      <th></th>\n",
       "      <th></th>\n",
       "      <th></th>\n",
       "      <th></th>\n",
       "      <th></th>\n",
       "    </tr>\n",
       "  </thead>\n",
       "  <tbody>\n",
       "    <tr>\n",
       "      <th>fruit</th>\n",
       "      <td>1</td>\n",
       "      <td>12</td>\n",
       "      <td>217</td>\n",
       "      <td>203</td>\n",
       "      <td>1</td>\n",
       "    </tr>\n",
       "    <tr>\n",
       "      <th>fruit</th>\n",
       "      <td>1</td>\n",
       "      <td>26</td>\n",
       "      <td>217</td>\n",
       "      <td>120</td>\n",
       "      <td>1</td>\n",
       "    </tr>\n",
       "    <tr>\n",
       "      <th>fruit</th>\n",
       "      <td>1</td>\n",
       "      <td>32</td>\n",
       "      <td>217</td>\n",
       "      <td>112</td>\n",
       "      <td>1</td>\n",
       "    </tr>\n",
       "    <tr>\n",
       "      <th>fruit</th>\n",
       "      <td>1</td>\n",
       "      <td>11</td>\n",
       "      <td>217</td>\n",
       "      <td>103</td>\n",
       "      <td>1</td>\n",
       "    </tr>\n",
       "    <tr>\n",
       "      <th>fruit</th>\n",
       "      <td>1</td>\n",
       "      <td>35</td>\n",
       "      <td>217</td>\n",
       "      <td>101</td>\n",
       "      <td>1</td>\n",
       "    </tr>\n",
       "  </tbody>\n",
       "</table>\n",
       "</div>"
      ],
      "text/plain": [
       "          item  variety  date  price  unit\n",
       "category                                  \n",
       "fruit        1       12   217    203     1\n",
       "fruit        1       26   217    120     1\n",
       "fruit        1       32   217    112     1\n",
       "fruit        1       11   217    103     1\n",
       "fruit        1       35   217    101     1"
      ]
     },
     "execution_count": 111,
     "metadata": {},
     "output_type": "execute_result"
    }
   ],
   "source": [
    "basket_price.head()"
   ]
  },
  {
   "cell_type": "code",
   "execution_count": 112,
   "id": "a2a57e07",
   "metadata": {},
   "outputs": [
    {
     "data": {
      "text/plain": [
       "Index(['item', 'variety', 'date', 'price', 'unit'], dtype='object')"
      ]
     },
     "execution_count": 112,
     "metadata": {},
     "output_type": "execute_result"
    }
   ],
   "source": [
    "basket_price.columns"
   ]
  },
  {
   "cell_type": "code",
   "execution_count": 115,
   "id": "07919f12",
   "metadata": {},
   "outputs": [
    {
     "data": {
      "text/plain": [
       "<seaborn.matrix.ClusterGrid at 0x1b3937fd6d0>"
      ]
     },
     "execution_count": 115,
     "metadata": {},
     "output_type": "execute_result"
    },
    {
     "data": {
      "text/plain": [
       "<Figure size 1500x600 with 0 Axes>"
      ]
     },
     "metadata": {},
     "output_type": "display_data"
    },
    {
     "data": {
      "image/png": "[encoded data removed]",
      "text/plain": [
       "<Figure size 720x720 with 4 Axes>"
      ]
     },
     "metadata": {
      "needs_background": "light"
     },
     "output_type": "display_data"
    }
   ],
   "source": [
    "# Find any correlation in the data \n",
    "correlation = basket_price.corr()\n",
    "plt.figure(figsize=(10,4), dpi=150)\n",
    "sns.clustermap(correlation, cmap=\"magma\", col_cluster=False)\n"
   ]
  },
  {
   "cell_type": "code",
   "execution_count": 122,
   "id": "897cc091",
   "metadata": {},
   "outputs": [
    {
     "data": {
      "text/plain": [
       "Index(['item', 'variety', 'date', 'price', 'unit'], dtype='object')"
      ]
     },
     "execution_count": 122,
     "metadata": {},
     "output_type": "execute_result"
    }
   ],
   "source": [
    "basket_price.columns"
   ]
  },
  {
   "cell_type": "code",
   "execution_count": 123,
   "id": "d5b18981",
   "metadata": {},
   "outputs": [
    {
     "data": {
      "text/html": [
       "<div>\n",
       "<style scoped>\n",
       "    .dataframe tbody tr th:only-of-type {\n",
       "        vertical-align: middle;\n",
       "    }\n",
       "\n",
       "    .dataframe tbody tr th {\n",
       "        vertical-align: top;\n",
       "    }\n",
       "\n",
       "    .dataframe thead th {\n",
       "        text-align: right;\n",
       "    }\n",
       "</style>\n",
       "<table border=\"1\" class=\"dataframe\">\n",
       "  <thead>\n",
       "    <tr style=\"text-align: right;\">\n",
       "      <th></th>\n",
       "      <th>item</th>\n",
       "      <th>variety</th>\n",
       "      <th>date</th>\n",
       "      <th>price</th>\n",
       "      <th>unit</th>\n",
       "    </tr>\n",
       "    <tr>\n",
       "      <th>category</th>\n",
       "      <th></th>\n",
       "      <th></th>\n",
       "      <th></th>\n",
       "      <th></th>\n",
       "      <th></th>\n",
       "    </tr>\n",
       "  </thead>\n",
       "  <tbody>\n",
       "    <tr>\n",
       "      <th>fruit</th>\n",
       "      <td>1</td>\n",
       "      <td>12</td>\n",
       "      <td>217</td>\n",
       "      <td>203</td>\n",
       "      <td>1</td>\n",
       "    </tr>\n",
       "    <tr>\n",
       "      <th>fruit</th>\n",
       "      <td>1</td>\n",
       "      <td>26</td>\n",
       "      <td>217</td>\n",
       "      <td>120</td>\n",
       "      <td>1</td>\n",
       "    </tr>\n",
       "    <tr>\n",
       "      <th>fruit</th>\n",
       "      <td>1</td>\n",
       "      <td>32</td>\n",
       "      <td>217</td>\n",
       "      <td>112</td>\n",
       "      <td>1</td>\n",
       "    </tr>\n",
       "    <tr>\n",
       "      <th>fruit</th>\n",
       "      <td>1</td>\n",
       "      <td>11</td>\n",
       "      <td>217</td>\n",
       "      <td>103</td>\n",
       "      <td>1</td>\n",
       "    </tr>\n",
       "    <tr>\n",
       "      <th>fruit</th>\n",
       "      <td>1</td>\n",
       "      <td>35</td>\n",
       "      <td>217</td>\n",
       "      <td>101</td>\n",
       "      <td>1</td>\n",
       "    </tr>\n",
       "  </tbody>\n",
       "</table>\n",
       "</div>"
      ],
      "text/plain": [
       "          item  variety  date  price  unit\n",
       "category                                  \n",
       "fruit        1       12   217    203     1\n",
       "fruit        1       26   217    120     1\n",
       "fruit        1       32   217    112     1\n",
       "fruit        1       11   217    103     1\n",
       "fruit        1       35   217    101     1"
      ]
     },
     "execution_count": 123,
     "metadata": {},
     "output_type": "execute_result"
    }
   ],
   "source": [
    "basket_price.head()"
   ]
  },
  {
   "cell_type": "code",
   "execution_count": 127,
   "id": "b7a73352",
   "metadata": {},
   "outputs": [
    {
     "data": {
      "text/html": [
       "<div>\n",
       "<style scoped>\n",
       "    .dataframe tbody tr th:only-of-type {\n",
       "        vertical-align: middle;\n",
       "    }\n",
       "\n",
       "    .dataframe tbody tr th {\n",
       "        vertical-align: top;\n",
       "    }\n",
       "\n",
       "    .dataframe thead th {\n",
       "        text-align: right;\n",
       "    }\n",
       "</style>\n",
       "<table border=\"1\" class=\"dataframe\">\n",
       "  <thead>\n",
       "    <tr style=\"text-align: right;\">\n",
       "      <th></th>\n",
       "      <th>item</th>\n",
       "      <th>variety</th>\n",
       "      <th>date</th>\n",
       "      <th>price</th>\n",
       "      <th>unit</th>\n",
       "    </tr>\n",
       "    <tr>\n",
       "      <th>category</th>\n",
       "      <th></th>\n",
       "      <th></th>\n",
       "      <th></th>\n",
       "      <th></th>\n",
       "      <th></th>\n",
       "    </tr>\n",
       "  </thead>\n",
       "  <tbody>\n",
       "    <tr>\n",
       "      <th>fruit</th>\n",
       "      <td>1</td>\n",
       "      <td>12</td>\n",
       "      <td>217</td>\n",
       "      <td>203</td>\n",
       "      <td>1</td>\n",
       "    </tr>\n",
       "    <tr>\n",
       "      <th>fruit</th>\n",
       "      <td>1</td>\n",
       "      <td>26</td>\n",
       "      <td>217</td>\n",
       "      <td>120</td>\n",
       "      <td>1</td>\n",
       "    </tr>\n",
       "    <tr>\n",
       "      <th>fruit</th>\n",
       "      <td>1</td>\n",
       "      <td>32</td>\n",
       "      <td>217</td>\n",
       "      <td>112</td>\n",
       "      <td>1</td>\n",
       "    </tr>\n",
       "    <tr>\n",
       "      <th>fruit</th>\n",
       "      <td>1</td>\n",
       "      <td>11</td>\n",
       "      <td>217</td>\n",
       "      <td>103</td>\n",
       "      <td>1</td>\n",
       "    </tr>\n",
       "    <tr>\n",
       "      <th>fruit</th>\n",
       "      <td>1</td>\n",
       "      <td>35</td>\n",
       "      <td>217</td>\n",
       "      <td>101</td>\n",
       "      <td>1</td>\n",
       "    </tr>\n",
       "    <tr>\n",
       "      <th>...</th>\n",
       "      <td>...</td>\n",
       "      <td>...</td>\n",
       "      <td>...</td>\n",
       "      <td>...</td>\n",
       "      <td>...</td>\n",
       "    </tr>\n",
       "    <tr>\n",
       "      <th>cut_flowers</th>\n",
       "      <td>0</td>\n",
       "      <td>38</td>\n",
       "      <td>0</td>\n",
       "      <td>25</td>\n",
       "      <td>2</td>\n",
       "    </tr>\n",
       "    <tr>\n",
       "      <th>cut_flowers</th>\n",
       "      <td>17</td>\n",
       "      <td>39</td>\n",
       "      <td>0</td>\n",
       "      <td>20</td>\n",
       "      <td>2</td>\n",
       "    </tr>\n",
       "    <tr>\n",
       "      <th>cut_flowers</th>\n",
       "      <td>29</td>\n",
       "      <td>42</td>\n",
       "      <td>0</td>\n",
       "      <td>68</td>\n",
       "      <td>2</td>\n",
       "    </tr>\n",
       "    <tr>\n",
       "      <th>cut_flowers</th>\n",
       "      <td>31</td>\n",
       "      <td>38</td>\n",
       "      <td>0</td>\n",
       "      <td>4</td>\n",
       "      <td>2</td>\n",
       "    </tr>\n",
       "    <tr>\n",
       "      <th>pot_plants</th>\n",
       "      <td>23</td>\n",
       "      <td>0</td>\n",
       "      <td>0</td>\n",
       "      <td>73</td>\n",
       "      <td>4</td>\n",
       "    </tr>\n",
       "  </tbody>\n",
       "</table>\n",
       "<p>9647 rows × 5 columns</p>\n",
       "</div>"
      ],
      "text/plain": [
       "             item  variety  date  price  unit\n",
       "category                                     \n",
       "fruit           1       12   217    203     1\n",
       "fruit           1       26   217    120     1\n",
       "fruit           1       32   217    112     1\n",
       "fruit           1       11   217    103     1\n",
       "fruit           1       35   217    101     1\n",
       "...           ...      ...   ...    ...   ...\n",
       "cut_flowers     0       38     0     25     2\n",
       "cut_flowers    17       39     0     20     2\n",
       "cut_flowers    29       42     0     68     2\n",
       "cut_flowers    31       38     0      4     2\n",
       "pot_plants     23        0     0     73     4\n",
       "\n",
       "[9647 rows x 5 columns]"
      ]
     },
     "execution_count": 127,
     "metadata": {},
     "output_type": "execute_result"
    }
   ],
   "source": [
    "x = basket_price.iloc[:, 0:5]\n",
    "x"
   ]
  },
  {
   "cell_type": "code",
   "execution_count": 128,
   "id": "84fd23c4",
   "metadata": {},
   "outputs": [
    {
     "data": {
      "text/plain": [
       "Index(['item', 'variety', 'date', 'price', 'unit'], dtype='object')"
      ]
     },
     "execution_count": 128,
     "metadata": {},
     "output_type": "execute_result"
    }
   ],
   "source": [
    "basket_price.columns"
   ]
  },
  {
   "cell_type": "code",
   "execution_count": 129,
   "id": "f0e68635",
   "metadata": {},
   "outputs": [
    {
     "data": {
      "text/html": [
       "<div>\n",
       "<style scoped>\n",
       "    .dataframe tbody tr th:only-of-type {\n",
       "        vertical-align: middle;\n",
       "    }\n",
       "\n",
       "    .dataframe tbody tr th {\n",
       "        vertical-align: top;\n",
       "    }\n",
       "\n",
       "    .dataframe thead th {\n",
       "        text-align: right;\n",
       "    }\n",
       "</style>\n",
       "<table border=\"1\" class=\"dataframe\">\n",
       "  <thead>\n",
       "    <tr style=\"text-align: right;\">\n",
       "      <th></th>\n",
       "      <th>item</th>\n",
       "    </tr>\n",
       "    <tr>\n",
       "      <th>category</th>\n",
       "      <th></th>\n",
       "    </tr>\n",
       "  </thead>\n",
       "  <tbody>\n",
       "    <tr>\n",
       "      <th>fruit</th>\n",
       "      <td>1</td>\n",
       "    </tr>\n",
       "    <tr>\n",
       "      <th>fruit</th>\n",
       "      <td>1</td>\n",
       "    </tr>\n",
       "    <tr>\n",
       "      <th>fruit</th>\n",
       "      <td>1</td>\n",
       "    </tr>\n",
       "    <tr>\n",
       "      <th>fruit</th>\n",
       "      <td>1</td>\n",
       "    </tr>\n",
       "    <tr>\n",
       "      <th>fruit</th>\n",
       "      <td>1</td>\n",
       "    </tr>\n",
       "    <tr>\n",
       "      <th>...</th>\n",
       "      <td>...</td>\n",
       "    </tr>\n",
       "    <tr>\n",
       "      <th>cut_flowers</th>\n",
       "      <td>0</td>\n",
       "    </tr>\n",
       "    <tr>\n",
       "      <th>cut_flowers</th>\n",
       "      <td>17</td>\n",
       "    </tr>\n",
       "    <tr>\n",
       "      <th>cut_flowers</th>\n",
       "      <td>29</td>\n",
       "    </tr>\n",
       "    <tr>\n",
       "      <th>cut_flowers</th>\n",
       "      <td>31</td>\n",
       "    </tr>\n",
       "    <tr>\n",
       "      <th>pot_plants</th>\n",
       "      <td>23</td>\n",
       "    </tr>\n",
       "  </tbody>\n",
       "</table>\n",
       "<p>9647 rows × 1 columns</p>\n",
       "</div>"
      ],
      "text/plain": [
       "             item\n",
       "category         \n",
       "fruit           1\n",
       "fruit           1\n",
       "fruit           1\n",
       "fruit           1\n",
       "fruit           1\n",
       "...           ...\n",
       "cut_flowers     0\n",
       "cut_flowers    17\n",
       "cut_flowers    29\n",
       "cut_flowers    31\n",
       "pot_plants     23\n",
       "\n",
       "[9647 rows x 1 columns]"
      ]
     },
     "execution_count": 129,
     "metadata": {},
     "output_type": "execute_result"
    }
   ],
   "source": [
    "y = basket_price.loc[:, [\"item\"]]\n",
    "y"
   ]
  },
  {
   "cell_type": "code",
   "execution_count": 130,
   "id": "6aa4f710",
   "metadata": {},
   "outputs": [],
   "source": [
    "# Divide the Data into Training and Testing "
   ]
  },
  {
   "cell_type": "code",
   "execution_count": 133,
   "id": "a0acfb78",
   "metadata": {},
   "outputs": [],
   "source": [
    "from sklearn.model_selection import train_test_split\n",
    "xtrain, xtest, ytrain, ytest = train_test_split(x,y, test_size=0.2, random_state=42)"
   ]
  },
  {
   "cell_type": "code",
   "execution_count": 132,
   "id": "ff3a2306",
   "metadata": {},
   "outputs": [
    {
     "data": {
      "text/html": [
       "<div>\n",
       "<style scoped>\n",
       "    .dataframe tbody tr th:only-of-type {\n",
       "        vertical-align: middle;\n",
       "    }\n",
       "\n",
       "    .dataframe tbody tr th {\n",
       "        vertical-align: top;\n",
       "    }\n",
       "\n",
       "    .dataframe thead th {\n",
       "        text-align: right;\n",
       "    }\n",
       "</style>\n",
       "<table border=\"1\" class=\"dataframe\">\n",
       "  <thead>\n",
       "    <tr style=\"text-align: right;\">\n",
       "      <th></th>\n",
       "      <th>item</th>\n",
       "    </tr>\n",
       "    <tr>\n",
       "      <th>category</th>\n",
       "      <th></th>\n",
       "    </tr>\n",
       "  </thead>\n",
       "  <tbody>\n",
       "    <tr>\n",
       "      <th>fruit</th>\n",
       "      <td>1</td>\n",
       "    </tr>\n",
       "    <tr>\n",
       "      <th>vegetable</th>\n",
       "      <td>50</td>\n",
       "    </tr>\n",
       "    <tr>\n",
       "      <th>vegetable</th>\n",
       "      <td>8</td>\n",
       "    </tr>\n",
       "    <tr>\n",
       "      <th>vegetable</th>\n",
       "      <td>28</td>\n",
       "    </tr>\n",
       "    <tr>\n",
       "      <th>vegetable</th>\n",
       "      <td>16</td>\n",
       "    </tr>\n",
       "    <tr>\n",
       "      <th>...</th>\n",
       "      <td>...</td>\n",
       "    </tr>\n",
       "    <tr>\n",
       "      <th>fruit</th>\n",
       "      <td>5</td>\n",
       "    </tr>\n",
       "    <tr>\n",
       "      <th>vegetable</th>\n",
       "      <td>50</td>\n",
       "    </tr>\n",
       "    <tr>\n",
       "      <th>vegetable</th>\n",
       "      <td>28</td>\n",
       "    </tr>\n",
       "    <tr>\n",
       "      <th>vegetable</th>\n",
       "      <td>7</td>\n",
       "    </tr>\n",
       "    <tr>\n",
       "      <th>vegetable</th>\n",
       "      <td>11</td>\n",
       "    </tr>\n",
       "  </tbody>\n",
       "</table>\n",
       "<p>7717 rows × 1 columns</p>\n",
       "</div>"
      ],
      "text/plain": [
       "           item\n",
       "category       \n",
       "fruit         1\n",
       "vegetable    50\n",
       "vegetable     8\n",
       "vegetable    28\n",
       "vegetable    16\n",
       "...         ...\n",
       "fruit         5\n",
       "vegetable    50\n",
       "vegetable    28\n",
       "vegetable     7\n",
       "vegetable    11\n",
       "\n",
       "[7717 rows x 1 columns]"
      ]
     },
     "execution_count": 132,
     "metadata": {},
     "output_type": "execute_result"
    }
   ],
   "source": [
    "ytrain"
   ]
  },
  {
   "cell_type": "code",
   "execution_count": 143,
   "id": "8392b5bc",
   "metadata": {},
   "outputs": [
    {
     "name": "stderr",
     "output_type": "stream",
     "text": [
      "C:\\Users\\PAULCH~1\\AppData\\Local\\Temp/ipykernel_18092/3540155541.py:4: DataConversionWarning: A column-vector y was passed when a 1d array was expected. Please change the shape of y to (n_samples,), for example using ravel().\n",
      "  data_model.fit(xtrain, ytrain)\n"
     ]
    },
    {
     "data": {
      "text/plain": [
       "0.9994818652849741"
      ]
     },
     "execution_count": 143,
     "metadata": {},
     "output_type": "execute_result"
    }
   ],
   "source": [
    "# Random Forest\n",
    "from sklearn.ensemble import RandomForestClassifier\n",
    "data_model = RandomForestClassifier()\n",
    "data_model.fit(xtrain, ytrain)\n",
    "predictions = data_model.predict(xtest)\n",
    "# evaluate\n",
    "from sklearn.metrics import accuracy_score\n",
    "accuracy_score(predictions, ytest)"
   ]
  },
  {
   "cell_type": "code",
   "execution_count": 146,
   "id": "c1f028d8",
   "metadata": {},
   "outputs": [
    {
     "data": {
      "text/plain": [
       "['filename.joblib']"
      ]
     },
     "execution_count": 146,
     "metadata": {},
     "output_type": "execute_result"
    }
   ],
   "source": [
    "from joblib import dump\n",
    "dump(data_model, 'filename.joblib')"
   ]
  },
  {
   "cell_type": "code",
   "execution_count": 145,
   "id": "22613add",
   "metadata": {},
   "outputs": [
    {
     "data": {
      "text/plain": [
       "'0.24.2'"
      ]
     },
     "execution_count": 145,
     "metadata": {},
     "output_type": "execute_result"
    }
   ],
   "source": [
    "\n",
    "\n",
    "import sklearn\n",
    "sklearn.__version__\n",
    "\n"
   ]
  },
  {
   "cell_type": "code",
   "execution_count": null,
   "id": "0baf97fa",
   "metadata": {},
   "outputs": [],
   "source": []
  }
 ],
 "metadata": {
  "kernelspec": {
   "display_name": "Python 3 (ipykernel)",
   "language": "python",
   "name": "python3"
  },
  "language_info": {
   "codemirror_mode": {
    "name": "ipython",
    "version": 3
   },
   "file_extension": ".py",
   "mimetype": "text/x-python",
   "name": "python",
   "nbconvert_exporter": "python",
   "pygments_lexer": "ipython3",
   "version": "3.9.7"
  }
 },
 "nbformat": 4,
 "nbformat_minor": 5
}
